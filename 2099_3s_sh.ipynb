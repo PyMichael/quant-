{
  "nbformat": 4,
  "nbformat_minor": 0,
  "metadata": {
    "colab": {
      "provenance": [],
      "authorship_tag": "ABX9TyMjQJdQ1djEktUw8vwdPWqS",
      "include_colab_link": true
    },
    "kernelspec": {
      "name": "python3",
      "display_name": "Python 3"
    },
    "language_info": {
      "name": "python"
    }
  },
  "cells": [
    {
      "cell_type": "markdown",
      "metadata": {
        "id": "view-in-github",
        "colab_type": "text"
      },
      "source": [
        "<a href=\"https://colab.research.google.com/github/PyMichael/quant-/blob/main/2099_3s_sh.ipynb\" target=\"_parent\"><img src=\"https://colab.research.google.com/assets/colab-badge.svg\" alt=\"Open In Colab\"/></a>"
      ]
    },
    {
      "cell_type": "code",
      "execution_count": 1,
      "metadata": {
        "colab": {
          "base_uri": "https://localhost:8080/"
        },
        "collapsed": true,
        "id": "VlOo0HoKUITj",
        "outputId": "4ae5cd68-e672-45d8-f08e-ad3d4249d172"
      },
      "outputs": [
        {
          "output_type": "stream",
          "name": "stdout",
          "text": [
            "Mounted at /content/drive\n",
            "Collecting akshare\n",
            "  Downloading akshare-1.15.67-py3-none-any.whl.metadata (13 kB)\n",
            "Requirement already satisfied: beautifulsoup4>=4.9.1 in /usr/local/lib/python3.10/dist-packages (from akshare) (4.12.3)\n",
            "Requirement already satisfied: lxml>=4.2.1 in /usr/local/lib/python3.10/dist-packages (from akshare) (5.3.0)\n",
            "Requirement already satisfied: pandas>=0.25 in /usr/local/lib/python3.10/dist-packages (from akshare) (2.2.2)\n",
            "Requirement already satisfied: requests>=2.22.0 in /usr/local/lib/python3.10/dist-packages (from akshare) (2.32.3)\n",
            "Requirement already satisfied: html5lib>=1.0.1 in /usr/local/lib/python3.10/dist-packages (from akshare) (1.1)\n",
            "Requirement already satisfied: xlrd>=1.2.0 in /usr/local/lib/python3.10/dist-packages (from akshare) (2.0.1)\n",
            "Requirement already satisfied: urllib3>=1.25.8 in /usr/local/lib/python3.10/dist-packages (from akshare) (2.3.0)\n",
            "Requirement already satisfied: tqdm>=4.43.0 in /usr/local/lib/python3.10/dist-packages (from akshare) (4.67.1)\n",
            "Requirement already satisfied: openpyxl>=3.0.3 in /usr/local/lib/python3.10/dist-packages (from akshare) (3.1.5)\n",
            "Collecting jsonpath>=0.82 (from akshare)\n",
            "  Downloading jsonpath-0.82.2.tar.gz (10 kB)\n",
            "  Preparing metadata (setup.py) ... \u001b[?25l\u001b[?25hdone\n",
            "Requirement already satisfied: tabulate>=0.8.6 in /usr/local/lib/python3.10/dist-packages (from akshare) (0.9.0)\n",
            "Requirement already satisfied: decorator>=4.4.2 in /usr/local/lib/python3.10/dist-packages (from akshare) (4.4.2)\n",
            "Collecting py-mini-racer>=0.6.0 (from akshare)\n",
            "  Downloading py_mini_racer-0.6.0-py2.py3-none-manylinux1_x86_64.whl.metadata (8.7 kB)\n",
            "Collecting akracer>=0.0.13 (from akracer[py-mini-racer]>=0.0.13; platform_system == \"Linux\"->akshare)\n",
            "  Downloading akracer-0.0.13-py3-none-any.whl.metadata (2.8 kB)\n",
            "\u001b[33mWARNING: akracer 0.0.13 does not provide the extra 'py-mini-racer'\u001b[0m\u001b[33m\n",
            "\u001b[0mRequirement already satisfied: soupsieve>1.2 in /usr/local/lib/python3.10/dist-packages (from beautifulsoup4>=4.9.1->akshare) (2.6)\n",
            "Requirement already satisfied: six>=1.9 in /usr/local/lib/python3.10/dist-packages (from html5lib>=1.0.1->akshare) (1.17.0)\n",
            "Requirement already satisfied: webencodings in /usr/local/lib/python3.10/dist-packages (from html5lib>=1.0.1->akshare) (0.5.1)\n",
            "Requirement already satisfied: et-xmlfile in /usr/local/lib/python3.10/dist-packages (from openpyxl>=3.0.3->akshare) (2.0.0)\n",
            "Requirement already satisfied: numpy>=1.22.4 in /usr/local/lib/python3.10/dist-packages (from pandas>=0.25->akshare) (1.26.4)\n",
            "Requirement already satisfied: python-dateutil>=2.8.2 in /usr/local/lib/python3.10/dist-packages (from pandas>=0.25->akshare) (2.8.2)\n",
            "Requirement already satisfied: pytz>=2020.1 in /usr/local/lib/python3.10/dist-packages (from pandas>=0.25->akshare) (2024.2)\n",
            "Requirement already satisfied: tzdata>=2022.7 in /usr/local/lib/python3.10/dist-packages (from pandas>=0.25->akshare) (2024.2)\n",
            "Requirement already satisfied: charset-normalizer<4,>=2 in /usr/local/lib/python3.10/dist-packages (from requests>=2.22.0->akshare) (3.4.1)\n",
            "Requirement already satisfied: idna<4,>=2.5 in /usr/local/lib/python3.10/dist-packages (from requests>=2.22.0->akshare) (3.10)\n",
            "Requirement already satisfied: certifi>=2017.4.17 in /usr/local/lib/python3.10/dist-packages (from requests>=2.22.0->akshare) (2024.12.14)\n",
            "Downloading akshare-1.15.67-py3-none-any.whl (1.0 MB)\n",
            "\u001b[2K   \u001b[90m━━━━━━━━━━━━━━━━━━━━━━━━━━━━━━━━━━━━━━━━\u001b[0m \u001b[32m1.0/1.0 MB\u001b[0m \u001b[31m14.6 MB/s\u001b[0m eta \u001b[36m0:00:00\u001b[0m\n",
            "\u001b[?25hDownloading akracer-0.0.13-py3-none-any.whl (10.1 MB)\n",
            "\u001b[2K   \u001b[90m━━━━━━━━━━━━━━━━━━━━━━━━━━━━━━━━━━━━━━━━\u001b[0m \u001b[32m10.1/10.1 MB\u001b[0m \u001b[31m30.9 MB/s\u001b[0m eta \u001b[36m0:00:00\u001b[0m\n",
            "\u001b[?25hDownloading py_mini_racer-0.6.0-py2.py3-none-manylinux1_x86_64.whl (5.4 MB)\n",
            "\u001b[2K   \u001b[90m━━━━━━━━━━━━━━━━━━━━━━━━━━━━━━━━━━━━━━━━\u001b[0m \u001b[32m5.4/5.4 MB\u001b[0m \u001b[31m50.3 MB/s\u001b[0m eta \u001b[36m0:00:00\u001b[0m\n",
            "\u001b[?25hBuilding wheels for collected packages: jsonpath\n",
            "  Building wheel for jsonpath (setup.py) ... \u001b[?25l\u001b[?25hdone\n",
            "  Created wheel for jsonpath: filename=jsonpath-0.82.2-py3-none-any.whl size=5615 sha256=6371a4229518ad92a928afc9ce7e850f0066681aac31c22ade5694b9df775a5d\n",
            "  Stored in directory: /root/.cache/pip/wheels/a2/e3/6a/59f241672f3221253b1236359b0a711dabb69795a006184398\n",
            "Successfully built jsonpath\n",
            "Installing collected packages: py-mini-racer, jsonpath, akracer, akshare\n",
            "Successfully installed akracer-0.0.13 akshare-1.15.67 jsonpath-0.82.2 py-mini-racer-0.6.0\n",
            "Requirement already satisfied: akshare in /usr/local/lib/python3.10/dist-packages (1.15.67)\n",
            "Requirement already satisfied: beautifulsoup4>=4.9.1 in /usr/local/lib/python3.10/dist-packages (from akshare) (4.12.3)\n",
            "Requirement already satisfied: lxml>=4.2.1 in /usr/local/lib/python3.10/dist-packages (from akshare) (5.3.0)\n",
            "Requirement already satisfied: pandas>=0.25 in /usr/local/lib/python3.10/dist-packages (from akshare) (2.2.2)\n",
            "Requirement already satisfied: requests>=2.22.0 in /usr/local/lib/python3.10/dist-packages (from akshare) (2.32.3)\n",
            "Requirement already satisfied: html5lib>=1.0.1 in /usr/local/lib/python3.10/dist-packages (from akshare) (1.1)\n",
            "Requirement already satisfied: xlrd>=1.2.0 in /usr/local/lib/python3.10/dist-packages (from akshare) (2.0.1)\n",
            "Requirement already satisfied: urllib3>=1.25.8 in /usr/local/lib/python3.10/dist-packages (from akshare) (2.3.0)\n",
            "Requirement already satisfied: tqdm>=4.43.0 in /usr/local/lib/python3.10/dist-packages (from akshare) (4.67.1)\n",
            "Requirement already satisfied: openpyxl>=3.0.3 in /usr/local/lib/python3.10/dist-packages (from akshare) (3.1.5)\n",
            "Requirement already satisfied: jsonpath>=0.82 in /usr/local/lib/python3.10/dist-packages (from akshare) (0.82.2)\n",
            "Requirement already satisfied: tabulate>=0.8.6 in /usr/local/lib/python3.10/dist-packages (from akshare) (0.9.0)\n",
            "Requirement already satisfied: decorator>=4.4.2 in /usr/local/lib/python3.10/dist-packages (from akshare) (4.4.2)\n",
            "Requirement already satisfied: py-mini-racer>=0.6.0 in /usr/local/lib/python3.10/dist-packages (from akshare) (0.6.0)\n",
            "Requirement already satisfied: akracer>=0.0.13 in /usr/local/lib/python3.10/dist-packages (from akracer[py-mini-racer]>=0.0.13; platform_system == \"Linux\"->akshare) (0.0.13)\n",
            "\u001b[33mWARNING: akracer 0.0.13 does not provide the extra 'py-mini-racer'\u001b[0m\u001b[33m\n",
            "\u001b[0mRequirement already satisfied: soupsieve>1.2 in /usr/local/lib/python3.10/dist-packages (from beautifulsoup4>=4.9.1->akshare) (2.6)\n",
            "Requirement already satisfied: six>=1.9 in /usr/local/lib/python3.10/dist-packages (from html5lib>=1.0.1->akshare) (1.17.0)\n",
            "Requirement already satisfied: webencodings in /usr/local/lib/python3.10/dist-packages (from html5lib>=1.0.1->akshare) (0.5.1)\n",
            "Requirement already satisfied: et-xmlfile in /usr/local/lib/python3.10/dist-packages (from openpyxl>=3.0.3->akshare) (2.0.0)\n",
            "Requirement already satisfied: numpy>=1.22.4 in /usr/local/lib/python3.10/dist-packages (from pandas>=0.25->akshare) (1.26.4)\n",
            "Requirement already satisfied: python-dateutil>=2.8.2 in /usr/local/lib/python3.10/dist-packages (from pandas>=0.25->akshare) (2.8.2)\n",
            "Requirement already satisfied: pytz>=2020.1 in /usr/local/lib/python3.10/dist-packages (from pandas>=0.25->akshare) (2024.2)\n",
            "Requirement already satisfied: tzdata>=2022.7 in /usr/local/lib/python3.10/dist-packages (from pandas>=0.25->akshare) (2024.2)\n",
            "Requirement already satisfied: charset-normalizer<4,>=2 in /usr/local/lib/python3.10/dist-packages (from requests>=2.22.0->akshare) (3.4.1)\n",
            "Requirement already satisfied: idna<4,>=2.5 in /usr/local/lib/python3.10/dist-packages (from requests>=2.22.0->akshare) (3.10)\n",
            "Requirement already satisfied: certifi>=2017.4.17 in /usr/local/lib/python3.10/dist-packages (from requests>=2.22.0->akshare) (2024.12.14)\n",
            "Requirement already satisfied: pandas in /usr/local/lib/python3.10/dist-packages (2.2.2)\n",
            "Requirement already satisfied: numpy>=1.22.4 in /usr/local/lib/python3.10/dist-packages (from pandas) (1.26.4)\n",
            "Requirement already satisfied: python-dateutil>=2.8.2 in /usr/local/lib/python3.10/dist-packages (from pandas) (2.8.2)\n",
            "Requirement already satisfied: pytz>=2020.1 in /usr/local/lib/python3.10/dist-packages (from pandas) (2024.2)\n",
            "Requirement already satisfied: tzdata>=2022.7 in /usr/local/lib/python3.10/dist-packages (from pandas) (2024.2)\n",
            "Requirement already satisfied: six>=1.5 in /usr/local/lib/python3.10/dist-packages (from python-dateutil>=2.8.2->pandas) (1.17.0)\n",
            "Collecting tushare\n",
            "  Downloading tushare-1.4.16-py3-none-any.whl.metadata (3.0 kB)\n",
            "Requirement already satisfied: pandas in /usr/local/lib/python3.10/dist-packages (from tushare) (2.2.2)\n",
            "Requirement already satisfied: requests in /usr/local/lib/python3.10/dist-packages (from tushare) (2.32.3)\n",
            "Requirement already satisfied: lxml in /usr/local/lib/python3.10/dist-packages (from tushare) (5.3.0)\n",
            "Collecting simplejson (from tushare)\n",
            "  Downloading simplejson-3.19.3-cp310-cp310-manylinux_2_5_x86_64.manylinux1_x86_64.manylinux_2_17_x86_64.manylinux2014_x86_64.whl.metadata (3.2 kB)\n",
            "Collecting bs4 (from tushare)\n",
            "  Downloading bs4-0.0.2-py2.py3-none-any.whl.metadata (411 bytes)\n",
            "Requirement already satisfied: websocket-client>=0.57.0 in /usr/local/lib/python3.10/dist-packages (from tushare) (1.8.0)\n",
            "Requirement already satisfied: tqdm in /usr/local/lib/python3.10/dist-packages (from tushare) (4.67.1)\n",
            "Requirement already satisfied: beautifulsoup4 in /usr/local/lib/python3.10/dist-packages (from bs4->tushare) (4.12.3)\n",
            "Requirement already satisfied: numpy>=1.22.4 in /usr/local/lib/python3.10/dist-packages (from pandas->tushare) (1.26.4)\n",
            "Requirement already satisfied: python-dateutil>=2.8.2 in /usr/local/lib/python3.10/dist-packages (from pandas->tushare) (2.8.2)\n",
            "Requirement already satisfied: pytz>=2020.1 in /usr/local/lib/python3.10/dist-packages (from pandas->tushare) (2024.2)\n",
            "Requirement already satisfied: tzdata>=2022.7 in /usr/local/lib/python3.10/dist-packages (from pandas->tushare) (2024.2)\n",
            "Requirement already satisfied: charset-normalizer<4,>=2 in /usr/local/lib/python3.10/dist-packages (from requests->tushare) (3.4.1)\n",
            "Requirement already satisfied: idna<4,>=2.5 in /usr/local/lib/python3.10/dist-packages (from requests->tushare) (3.10)\n",
            "Requirement already satisfied: urllib3<3,>=1.21.1 in /usr/local/lib/python3.10/dist-packages (from requests->tushare) (2.3.0)\n",
            "Requirement already satisfied: certifi>=2017.4.17 in /usr/local/lib/python3.10/dist-packages (from requests->tushare) (2024.12.14)\n",
            "Requirement already satisfied: six>=1.5 in /usr/local/lib/python3.10/dist-packages (from python-dateutil>=2.8.2->pandas->tushare) (1.17.0)\n",
            "Requirement already satisfied: soupsieve>1.2 in /usr/local/lib/python3.10/dist-packages (from beautifulsoup4->bs4->tushare) (2.6)\n",
            "Downloading tushare-1.4.16-py3-none-any.whl (142 kB)\n",
            "\u001b[2K   \u001b[90m━━━━━━━━━━━━━━━━━━━━━━━━━━━━━━━━━━━━━━━━\u001b[0m \u001b[32m142.5/142.5 kB\u001b[0m \u001b[31m2.6 MB/s\u001b[0m eta \u001b[36m0:00:00\u001b[0m\n",
            "\u001b[?25hDownloading bs4-0.0.2-py2.py3-none-any.whl (1.2 kB)\n",
            "Downloading simplejson-3.19.3-cp310-cp310-manylinux_2_5_x86_64.manylinux1_x86_64.manylinux_2_17_x86_64.manylinux2014_x86_64.whl (137 kB)\n",
            "\u001b[2K   \u001b[90m━━━━━━━━━━━━━━━━━━━━━━━━━━━━━━━━━━━━━━━━\u001b[0m \u001b[32m137.9/137.9 kB\u001b[0m \u001b[31m5.1 MB/s\u001b[0m eta \u001b[36m0:00:00\u001b[0m\n",
            "\u001b[?25hInstalling collected packages: simplejson, bs4, tushare\n",
            "Successfully installed bs4-0.0.2 simplejson-3.19.3 tushare-1.4.16\n"
          ]
        }
      ],
      "source": [
        "from google.colab import drive\n",
        "# 启动硬盘连接\n",
        "drive.mount('/content/drive')\n",
        "%load_ext google.colab.data_table\n",
        "\n",
        "!pip install akshare\n",
        "!pip install --upgrade akshare\n",
        "!pip install pandas\n",
        "!pip install tushare\n"
      ]
    },
    {
      "cell_type": "code",
      "source": [
        "import akshare as ak\n",
        "import tushare as ts\n",
        "import pandas as pd\n",
        "pd.set_option('display.max_rows', None)\n",
        "pd.set_option('display.max_columns', None)\n",
        "pd.set_option('display.expand_frame_repr', False)\n",
        "pd.set_option('display.unicode.ambiguous_as_wide', True)\n",
        "pd.set_option('display.unicode.east_asian_width', True)\n",
        "import time\n",
        "from datetime import datetime\n",
        "import IPython.display as display\n",
        "\n",
        "\n",
        "# 获取当前的日期和时间\n",
        "dt = int(datetime.now().strftime('%Y%m%d'))\n",
        "dt2 = int(datetime.now().strftime('%H%m'))\n",
        "if dt2 < 930:\n",
        "  dt = dt-1\n",
        "\n",
        "dt = str(dt)\n",
        "# 全量code\n",
        "df = ak.stock_zh_a_spot_em()\n",
        "df['dt'] = str(dt)\n",
        "exl_name = str(dt) + '_收盘_含全量code.xlsx'\n",
        "df.to_excel(exl_name, index=False)\n",
        "\n",
        "\n",
        "# 筛选目标code\n",
        "# 过滤无效code\n",
        "df = df[df['成交量']>1]\n",
        "df = df[df['代码'].astype(float) < 700000]\n",
        "df = df[df['代码'].astype(float) >= 600000]\n",
        "\n",
        "i = 0\n",
        "i2 = df.shape[0]\n",
        "print(i2)"
      ],
      "metadata": {
        "colab": {
          "base_uri": "https://localhost:8080/"
        },
        "id": "Us0t1aEWULt6",
        "outputId": "c276403d-80d0-49ef-aee7-3b7da6cd0179"
      },
      "execution_count": 7,
      "outputs": [
        {
          "output_type": "stream",
          "name": "stdout",
          "text": [
            "2270\n"
          ]
        }
      ]
    },
    {
      "cell_type": "code",
      "source": [
        "i = 1719"
      ],
      "metadata": {
        "id": "umejZTogo5DS"
      },
      "execution_count": 15,
      "outputs": []
    },
    {
      "cell_type": "code",
      "source": [
        "while i < i2:\n",
        "    c1 = df.iat[i,1]\n",
        "    d0 = ts.get_today_ticks(c1)\n",
        "    d0['代码'] = c1\n",
        "    d0['dt'] = dt\n",
        "    d0.to_csv(dt + '_3s_sh.csv', index = False,  mode='a', header = False, encoding='utf_8_sig')\n",
        "    display.clear_output(wait=True)\n",
        "    print(i, c1)\n",
        "    i += 1\n",
        "\n",
        "print('end')"
      ],
      "metadata": {
        "colab": {
          "base_uri": "https://localhost:8080/"
        },
        "id": "uTF1L-OEULfq",
        "outputId": "cbfb9b92-e758-4d3b-e748-43be71882c4b"
      },
      "execution_count": null,
      "outputs": [
        {
          "output_type": "stream",
          "name": "stdout",
          "text": [
            "1923 603983\n"
          ]
        }
      ]
    },
    {
      "cell_type": "code",
      "source": [],
      "metadata": {
        "id": "lEoepr3UopOt"
      },
      "execution_count": null,
      "outputs": []
    }
  ]
}